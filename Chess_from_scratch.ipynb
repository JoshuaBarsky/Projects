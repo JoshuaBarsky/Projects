{
  "nbformat": 4,
  "nbformat_minor": 0,
  "metadata": {
    "colab": {
      "provenance": [],
      "authorship_tag": "ABX9TyOL1h7JvqeWwEhHxwMzdLb5",
      "include_colab_link": true
    },
    "kernelspec": {
      "name": "python3",
      "display_name": "Python 3"
    },
    "language_info": {
      "name": "python"
    }
  },
  "cells": [
    {
      "cell_type": "markdown",
      "metadata": {
        "id": "view-in-github",
        "colab_type": "text"
      },
      "source": [
        "<a href=\"https://colab.research.google.com/github/JoshuaBarsky/Projects/blob/main/Chess_from_scratch.ipynb\" target=\"_parent\"><img src=\"https://colab.research.google.com/assets/colab-badge.svg\" alt=\"Open In Colab\"/></a>"
      ]
    },
    {
      "cell_type": "markdown",
      "source": [
        "##**Chess from scratch**\n",
        "\n",
        "Everything is created by Python Image Library (PIL) <u>per-pixel</u> manipulations using algebraic equations to create geometric shapes.\n",
        "\n",
        "https://en.wikipedia.org/wiki/Python_Imaging_Library\n",
        "\n"
      ],
      "metadata": {
        "id": "aXVJXXmKKp8B"
      }
    },
    {
      "cell_type": "markdown",
      "source": [
        "This chess game will contain:\n",
        "\n",
        "\n",
        "*   Board created from scratch (pixel level).\n",
        "*   Chess pieces created from scratch (pixel level).\n",
        "*   Numbered positions (A1, B1, B2, etc.)\n",
        "*   Allow only certain possible moves.\n",
        "*   Simple interface to play.\n",
        "*   Score keeping.\n",
        "*   AI vs player.\n",
        "\n",
        "\n"
      ],
      "metadata": {
        "id": "lz7FPGsBMZuF"
      }
    },
    {
      "cell_type": "code",
      "execution_count": 66,
      "metadata": {
        "id": "PJogVLA8CBUQ"
      },
      "outputs": [],
      "source": [
        "import numpy as np\n",
        "from PIL import Image\n",
        "from PIL import ImageDraw"
      ]
    },
    {
      "cell_type": "code",
      "source": [
        "def resetBoard(positions):\n",
        "  #white pieces\n",
        "  for i in range(8):\n",
        "    positions[1][i] = 1 #pawn\n",
        "  for i in range(8):\n",
        "    if i==0 or i == 7:\n",
        "      positions[0][i] = 2\n",
        "  for i in range(8):\n",
        "    if i==1 or i == 6:\n",
        "      positions[0][i] = 3\n",
        "  for i in range(8):\n",
        "    if i==2 or i == 5:\n",
        "      positions[0][i] = 4\n",
        "  positions[0][3] = 6 #king\n",
        "  positions[0][4] = 5 #queen\n",
        "  #black pieces\n",
        "  for i in range(8):\n",
        "    positions[6][i] = 7 #pawn\n",
        "  for i in range(8):\n",
        "    if i==0 or i == 7:\n",
        "      positions[7][i] = 8 #rook\n",
        "  for i in range(8):\n",
        "    if i==1 or i == 6:\n",
        "      positions[7][i] = 9 #knight\n",
        "  for i in range(8):\n",
        "    if i==2 or i == 5:\n",
        "      positions[7][i] = 10 #bishop\n",
        "  positions[7][3] = 12 #king\n",
        "  positions[7][4] = 11 #queen\n",
        "\n",
        "  return positions"
      ],
      "metadata": {
        "id": "QEsyQwdTzrgc"
      },
      "execution_count": 67,
      "outputs": []
    },
    {
      "cell_type": "code",
      "source": [
        "print(positions)"
      ],
      "metadata": {
        "colab": {
          "base_uri": "https://localhost:8080/"
        },
        "id": "otnXFf437GiQ",
        "outputId": "2a1b2487-242d-4f55-a9ee-9c1809cd0ca4"
      },
      "execution_count": 68,
      "outputs": [
        {
          "output_type": "stream",
          "name": "stdout",
          "text": [
            "[[ 2.  3.  4.  6.  5.  4.  3.  2.]\n",
            " [ 1.  1.  1.  1.  1.  1.  1.  1.]\n",
            " [ 0.  0.  0.  0.  0.  0.  0.  0.]\n",
            " [ 0.  0.  0.  0.  0.  0.  0.  0.]\n",
            " [ 0.  0.  0.  0.  0.  0.  0.  0.]\n",
            " [ 0.  0.  0.  0.  0.  0.  0.  0.]\n",
            " [ 7.  7.  7.  7.  7.  7.  7.  7.]\n",
            " [ 8.  9. 10. 12. 11. 10.  9.  8.]]\n"
          ]
        }
      ]
    },
    {
      "cell_type": "code",
      "source": [
        "positions = np.zeros((8,8))\n",
        "#0 = Empty\n",
        "#1 = Pawn (w)\n",
        "#2 = Rook (w)\n",
        "#3 = Knight (w)\n",
        "#4 = Bishop (w)\n",
        "#5 = Queen (w)\n",
        "#6 = King (w)\n",
        "#7 = Pawn (b)\n",
        "#8 = Rook (b)\n",
        "#9 = Knight (b)\n",
        "#10 = Bishop (b)\n",
        "#11 = Queen (b)\n",
        "#12 = King (b)\n",
        "positions = resetBoard(positions)"
      ],
      "metadata": {
        "id": "7V0gLUQpboQG"
      },
      "execution_count": 69,
      "outputs": []
    },
    {
      "cell_type": "code",
      "source": [
        "def boardImage(positions):\n",
        "  pixels = np.random.randint(0,256,(721,721,3), dtype = np.uint8)\n",
        "\n",
        "  for i in range(len(pixels)):\n",
        "    for k in range(len(pixels)):\n",
        "      pixels[i][k] = (200,200,200)\n",
        "    for j in range(9):\n",
        "      pixels[i][j*90] = (0,0,0)\n",
        "\n",
        "  for i in range(4):  #makes dark squares\n",
        "    for k in range(90):\n",
        "      for j in range(89):\n",
        "        pixels[i*180+k][j+1] = (100,100,100)\n",
        "        pixels[i*180+k][j+181] = (100,100,100)\n",
        "        pixels[i*180+k][j+361] = (100,100,100)\n",
        "        pixels[i*180+k][j+541] = (100,100,100)\n",
        "\n",
        "  for i in range(4):  #makes dark squares\n",
        "    for k in range(90):\n",
        "      for j in range(89):\n",
        "        pixels[i*180+k+90][j+91] = (100,100,100)\n",
        "        pixels[i*180+k+90][j+271] = (100,100,100)\n",
        "        pixels[i*180+k+90][j+451] = (100,100,100)\n",
        "        pixels[i*180+k+90][j+631] = (100,100,100)\n",
        "\n",
        "  for i in range(9):\n",
        "    for j in range(len(pixels)):\n",
        "      pixels[i*90][j] = (0,0,0)\n",
        "\n",
        "  for i in range(len(positions)):\n",
        "    for j in range(len(positions)):\n",
        "      #white pieces\n",
        "      if positions[i][j] == 0.0:\n",
        "        pixels = drawEmpty(i,j, pixels, 0)\n",
        "      if positions[i][j] == 1.0:\n",
        "        pixels = drawPawn(i,j, pixels, 0)\n",
        "      if positions[i][j] == 2.0:\n",
        "        pixels = drawRook(i,j, pixels, 0)\n",
        "      if positions[i][j] == 3.0:\n",
        "        pixels = drawKnight(i,j, pixels, 0)\n",
        "      if positions[i][j] == 4.0:\n",
        "        pixels = drawBishop(i,j, pixels, 0)\n",
        "      if positions[i][j] == 5.0:\n",
        "        pixels = drawQueen(i,j, pixels, 0)\n",
        "      if positions[i][j] == 6.0:\n",
        "        pixels = drawKing(i,j, pixels, 0)\n",
        "      #black pieces\n",
        "      if positions[i][j] == 7.0:\n",
        "        pixels = drawPawn(i,j, pixels, 1)\n",
        "      if positions[i][j] == 8.0:\n",
        "        pixels = drawRook(i,j, pixels, 1)\n",
        "      if positions[i][j] == 9.0:\n",
        "        pixels = drawKnight(i,j, pixels, 1)\n",
        "      if positions[i][j] == 10.0:\n",
        "        pixels = drawBishop(i,j, pixels, 1)\n",
        "      if positions[i][j] == 11.0:\n",
        "        pixels = drawQueen(i,j, pixels, 1)\n",
        "      if positions[i][j] == 12.0:\n",
        "        pixels = drawKing(i,j, pixels, 1)\n",
        "\n",
        "  return pixels"
      ],
      "metadata": {
        "id": "YEQZDwvfKCNu"
      },
      "execution_count": 70,
      "outputs": []
    },
    {
      "cell_type": "code",
      "source": [
        "def drawEmpty(i,j, pixels, color):\n",
        "  pixels[i*90+45][j*90+45] = 0\n",
        "  return pixels"
      ],
      "metadata": {
        "id": "OKzhaxcXelSX"
      },
      "execution_count": 71,
      "outputs": []
    },
    {
      "cell_type": "code",
      "source": [
        "def drawPawn(i, j, pixels, color):\n",
        "  #draw black pieces\n",
        "  if color == 0:\n",
        "    for k in range(-10, 11, 1):\n",
        "      y = np.sqrt(10**2 - k**2)\n",
        "      pixels[i*90+45-int(y)][j*90+45+k] = 0\n",
        "    for k in range(-10, 11, 1):\n",
        "      y = np.sqrt(10**2 - k**2)\n",
        "      pixels[i*90+45+int(y)][j*90+45+k] = 0\n",
        "  #draw white pieces\n",
        "  if color == 1:\n",
        "    for k in range(-10, 11, 1):\n",
        "      y = np.sqrt(10**2 - k**2)\n",
        "      pixels[i*90+45-int(y)][j*90+45+k] = 255\n",
        "    for k in range(-10, 11, 1):\n",
        "      y = np.sqrt(10**2 - k**2)\n",
        "      pixels[i*90+45+int(y)][j*90+45+k] = 255\n",
        "  return pixels"
      ],
      "metadata": {
        "id": "XahnGsYgOQi-"
      },
      "execution_count": 72,
      "outputs": []
    },
    {
      "cell_type": "code",
      "source": [
        "def drawRook(i,j, pixels, color):\n",
        "  #draw black pieces\n",
        "  if color == 0:\n",
        "    for k in range(21):\n",
        "      pixels[i*90+35+k][j*90+35] = 0\n",
        "      pixels[i*90+35+k][j*90+55] = 0\n",
        "    for k in range(21):\n",
        "      pixels[i*90+35][j*90+35+k] = 0\n",
        "      pixels[i*90+55][j*90+35+k] = 0\n",
        "    #draw white pieces\n",
        "  if color == 1:\n",
        "    for k in range(21):\n",
        "      pixels[i*90+35+k][j*90+35] = 255\n",
        "      pixels[i*90+35+k][j*90+55] = 255\n",
        "    for k in range(21):\n",
        "      pixels[i*90+35][j*90+35+k] = 255\n",
        "      pixels[i*90+55][j*90+35+k] = 255\n",
        "  return pixels"
      ],
      "metadata": {
        "id": "0fmPp8sYsVlU"
      },
      "execution_count": 73,
      "outputs": []
    },
    {
      "cell_type": "code",
      "source": [
        "def drawKnight(i,j, pixels, color):\n",
        "  #draw black pieces\n",
        "  if color == 0:\n",
        "    for k in range(21):\n",
        "      pixels[i*90+35+k][j*90+54-k] = 0\n",
        "      pixels[i*90+35+k][j*90+56-k] = 0\n",
        "    for k in range(21):\n",
        "      pixels[i*90+35][j*90+35+k] = 0\n",
        "      pixels[i*90+55][j*90+35+k] = 0\n",
        "  #draw white pieces\n",
        "  if color == 1:\n",
        "    for k in range(21):\n",
        "      pixels[i*90+35+k][j*90+54-k] = 255\n",
        "      pixels[i*90+35+k][j*90+56-k] = 255\n",
        "    for k in range(21):\n",
        "      pixels[i*90+35][j*90+35+k] = 255\n",
        "      pixels[i*90+55][j*90+35+k] = 255\n",
        "\n",
        "  return pixels"
      ],
      "metadata": {
        "id": "3uQgkbVDyiUk"
      },
      "execution_count": 74,
      "outputs": []
    },
    {
      "cell_type": "code",
      "source": [
        "def drawBishop(i,j, pixels, color):\n",
        "  #draw black piece\n",
        "  if color == 0:\n",
        "    for k in range(11):\n",
        "      pixels[i*90+45+k][j*90+35+k] = 0\n",
        "      pixels[i*90+45+k][j*90+55-k] = 0\n",
        "    for k in range(11):\n",
        "      pixels[i*90+35+k][j*90+45+k] = 0\n",
        "      pixels[i*90+35+k][j*90+45-k] = 0\n",
        "  #draw white piece\n",
        "  if color == 1:\n",
        "    for k in range(11):\n",
        "      pixels[i*90+45+k][j*90+35+k] = 255\n",
        "      pixels[i*90+45+k][j*90+55-k] = 255\n",
        "    for k in range(11):\n",
        "      pixels[i*90+35+k][j*90+45+k] = 255\n",
        "      pixels[i*90+35+k][j*90+45-k] = 255\n",
        "  return pixels"
      ],
      "metadata": {
        "id": "S3npXozbvSKa"
      },
      "execution_count": 75,
      "outputs": []
    },
    {
      "cell_type": "code",
      "source": [
        "def drawQueen(i,j,pixels, color): #draws queen symbol\n",
        "  #draw black pieces\n",
        "  if color == 0:\n",
        "    for k in range(-17, 18, 1):  #makes curve of crown y = sqrt(r^2 - x^2)\n",
        "      y = np.sqrt(20**2 - k**2)\n",
        "      pixels[i*90+45-int(y)+20][j*90+45+k] = 0\n",
        "    for k in range(-17, 18, 1):  #makes curve of crown\n",
        "      y = np.sqrt(20**2 - k**2)\n",
        "      pixels[i*90+45-int(y)+22][j*90+45+k] = 0\n",
        "\n",
        "    for k in range(-17, 18, 1): #makes spikes of the crown\n",
        "      y = np.sqrt(20**2 - k**2)\n",
        "      if k%4 == 0:\n",
        "        for u in range(13):\n",
        "          pixels[i*90+45-int(y)+20-u][j*90+45+k] = 0\n",
        "  #draw white pieces\n",
        "  if color == 1:\n",
        "    for k in range(-17, 18, 1):  #makes curve of crown y = sqrt(r^2 - x^2)\n",
        "      y = np.sqrt(20**2 - k**2)\n",
        "      pixels[i*90+45-int(y)+20][j*90+45+k] = 255\n",
        "    for k in range(-17, 18, 1):  #makes curve of crown\n",
        "      y = np.sqrt(20**2 - k**2)\n",
        "      pixels[i*90+45-int(y)+22][j*90+45+k] = 255\n",
        "\n",
        "    for k in range(-17, 18, 1): #makes spikes of the crown\n",
        "      y = np.sqrt(20**2 - k**2)\n",
        "      if k%4 == 0:\n",
        "        for u in range(13):\n",
        "          pixels[i*90+45-int(y)+20-u][j*90+45+k] = 255\n",
        "  return pixels"
      ],
      "metadata": {
        "id": "iVfiXQST3JSt"
      },
      "execution_count": 76,
      "outputs": []
    },
    {
      "cell_type": "code",
      "source": [
        "def drawKing(i,j,pixels, color): #draws King symbol\n",
        "  #draw black pieces\n",
        "  if color == 0:\n",
        "    for k in range(-17, 18, 1):  #makes curve of crown y = sqrt(r^2 - x^2)\n",
        "      y = np.sqrt(20**2 - k**2)\n",
        "      pixels[i*90+45-int(y)+20][j*90+45+k] = 0\n",
        "\n",
        "\n",
        "    for k in range(-17, 18, 1): #makes spikes of the crown\n",
        "      y = np.sqrt(20**2 - k**2)\n",
        "      if k%8 == 0:\n",
        "        for u in range(11):\n",
        "          pixels[i*90+45-int(y)+20-u][j*90+45+k] = 0\n",
        "  #draw white pieces\n",
        "  if color == 1:\n",
        "    for k in range(-17, 18, 1):  #makes curve of crown y = sqrt(r^2 - x^2)\n",
        "      y = np.sqrt(20**2 - k**2)\n",
        "      pixels[i*90+45-int(y)+20][j*90+45+k] = 255\n",
        "\n",
        "\n",
        "    for k in range(-17, 18, 1): #makes spikes of the crown\n",
        "      y = np.sqrt(20**2 - k**2)\n",
        "      if k%8 == 0:\n",
        "        for u in range(11):\n",
        "          pixels[i*90+45-int(y)+20-u][j*90+45+k] = 255\n",
        "\n",
        "  return pixels"
      ],
      "metadata": {
        "id": "uNgWeWzxJ57k"
      },
      "execution_count": 77,
      "outputs": []
    },
    {
      "cell_type": "code",
      "source": [
        "def addPositionText(img):\n",
        "  for i in range(8):\n",
        "    for j in range(8):\n",
        "      A1 = ImageDraw.Draw(img)\n",
        "      A1.text((90*j+75, 90*i+2), \"{}{}\".format(chr(65+i), j+1), fill=(0, 0, 0))\n",
        "\n",
        "  return img"
      ],
      "metadata": {
        "id": "sFFiqKVHTg-j"
      },
      "execution_count": 78,
      "outputs": []
    },
    {
      "cell_type": "code",
      "source": [
        "img = Image.fromarray(boardImage(positions))\n",
        "img = addPositionText(img)\n",
        "img.show()\n",
        "\n",
        "#display(img)\n",
        "#img.save('Chess.png')"
      ],
      "metadata": {
        "colab": {
          "base_uri": "https://localhost:8080/",
          "height": 738
        },
        "id": "9JQJw5LmKOCz",
        "outputId": "9445bc4e-1794-4418-ace3-4fd7313ff20c"
      },
      "execution_count": 79,
      "outputs": [
        {
          "output_type": "display_data",
          "data": {
            "text/plain": [
              "<PIL.Image.Image image mode=RGB size=721x721 at 0x78859305F310>"
            ],
            "image/png": "[encoded data removed]"
          },
          "metadata": {}
        }
      ]
    },
    {
      "cell_type": "code",
      "source": [],
      "metadata": {
        "id": "altQRxoF4gmM"
      },
      "execution_count": null,
      "outputs": []
    }
  ]
}