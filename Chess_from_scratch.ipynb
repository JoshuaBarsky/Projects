{
  "nbformat": 4,
  "nbformat_minor": 0,
  "metadata": {
    "colab": {
      "provenance": [],
      "authorship_tag": "ABX9TyM848TqdPpaba3+piNOkI/M",
      "include_colab_link": true
    },
    "kernelspec": {
      "name": "python3",
      "display_name": "Python 3"
    },
    "language_info": {
      "name": "python"
    }
  },
  "cells": [
    {
      "cell_type": "markdown",
      "metadata": {
        "id": "view-in-github",
        "colab_type": "text"
      },
      "source": [
        "<a href=\"https://colab.research.google.com/github/JoshuaBarsky/Projects/blob/main/Chess_from_scratch.ipynb\" target=\"_parent\"><img src=\"https://colab.research.google.com/assets/colab-badge.svg\" alt=\"Open In Colab\"/></a>"
      ]
    },
    {
      "cell_type": "markdown",
      "source": [
        "##**Chess from scratch**\n",
        "\n",
        "Everything is created by Python Image Library (PIL) <u>per-pixel</u> manipulations using algebraic equations to create geometric shapes.\n",
        "\n",
        "https://en.wikipedia.org/wiki/Python_Imaging_Library\n",
        "\n"
      ],
      "metadata": {
        "id": "aXVJXXmKKp8B"
      }
    },
    {
      "cell_type": "markdown",
      "source": [
        "This chess game will contain:\n",
        "\n",
        "\n",
        "*   Board created from scratch (pixel level).\n",
        "*   Chess pieces created from scratch (pixel level, <u>custom anti-aliasing created from scratch</u>).\n",
        "*   Numbered positions (A1, B1, B2, etc.)\n",
        "*   Allow only certain possible moves.\n",
        "*   Simple interface to play.\n",
        "*   Score keeping.\n",
        "*   AI vs player.\n",
        "\n",
        "\n"
      ],
      "metadata": {
        "id": "lz7FPGsBMZuF"
      }
    },
    {
      "cell_type": "markdown",
      "source": [
        "###**Imports** - Essential imports for this program."
      ],
      "metadata": {
        "id": "xFPovR4qOFgA"
      }
    },
    {
      "cell_type": "code",
      "execution_count": 616,
      "metadata": {
        "id": "PJogVLA8CBUQ"
      },
      "outputs": [],
      "source": [
        "import numpy as np\n",
        "from numpy import unravel_index\n",
        "from PIL import Image\n",
        "from PIL import ImageDraw"
      ]
    },
    {
      "cell_type": "markdown",
      "source": [
        "###**Set board** - Creates and sets up board"
      ],
      "metadata": {
        "id": "TP89xNXBOOho"
      }
    },
    {
      "cell_type": "code",
      "source": [
        "def resetBoard(positions):\n",
        "  positions = np.zeros((8,8))\n",
        "\n",
        "  #black pieces\n",
        "  for i in range(8):\n",
        "    positions[1][i] = 1 #pawn\n",
        "  for i in range(8):\n",
        "    if i==0 or i == 7:\n",
        "      positions[0][i] = 2\n",
        "  for i in range(8):\n",
        "    if i==1 or i == 6:\n",
        "      positions[0][i] = 3\n",
        "  for i in range(8):\n",
        "    if i==2 or i == 5:\n",
        "      positions[0][i] = 4\n",
        "  positions[0][3] = 6 #king\n",
        "  positions[0][4] = 5 #queen\n",
        "  #white pieces\n",
        "  for i in range(8):\n",
        "    positions[6][i] = 7 #pawn\n",
        "  for i in range(8):\n",
        "    if i==0 or i == 7:\n",
        "      positions[7][i] = 8 #rook\n",
        "  for i in range(8):\n",
        "    if i==1 or i == 6:\n",
        "      positions[7][i] = 9 #knight\n",
        "  for i in range(8):\n",
        "    if i==2 or i == 5:\n",
        "      positions[7][i] = 10 #bishop\n",
        "  positions[7][3] = 12 #king\n",
        "  positions[7][4] = 11 #queen\n",
        "\n",
        "  return positions"
      ],
      "metadata": {
        "id": "QEsyQwdTzrgc"
      },
      "execution_count": 617,
      "outputs": []
    },
    {
      "cell_type": "code",
      "source": [
        "#0 = Empty\n",
        "#1 = Pawn (w)\n",
        "#2 = Rook (w)\n",
        "#3 = Knight (w)\n",
        "#4 = Bishop (w)\n",
        "#5 = Queen (w)\n",
        "#6 = King (w)\n",
        "#7 = Pawn (b)\n",
        "#8 = Rook (b)\n",
        "#9 = Knight (b)\n",
        "#10 = Bishop (b)\n",
        "#11 = Queen (b)\n",
        "#12 = King (b)"
      ],
      "metadata": {
        "id": "7V0gLUQpboQG"
      },
      "execution_count": 618,
      "outputs": []
    },
    {
      "cell_type": "code",
      "source": [
        "def boardImage(positions):\n",
        "  pixels = np.random.randint(0,256,(721,721,3), dtype = np.uint8)\n",
        "\n",
        "  for i in range(len(pixels)):\n",
        "    for k in range(len(pixels)):\n",
        "      pixels[i][k] = (200,200,200)\n",
        "    for j in range(9):\n",
        "      pixels[i][j*90] = (0,0,0)\n",
        "\n",
        "  for i in range(4):  #makes dark squares\n",
        "    for k in range(90):\n",
        "      for j in range(89):\n",
        "        pixels[i*180+k][j+1] = (100,100,100)\n",
        "        pixels[i*180+k][j+181] = (100,100,100)\n",
        "        pixels[i*180+k][j+361] = (100,100,100)\n",
        "        pixels[i*180+k][j+541] = (100,100,100)\n",
        "\n",
        "  for i in range(4):  #makes dark squares\n",
        "    for k in range(90):\n",
        "      for j in range(89):\n",
        "        pixels[i*180+k+90][j+91] = (100,100,100)\n",
        "        pixels[i*180+k+90][j+271] = (100,100,100)\n",
        "        pixels[i*180+k+90][j+451] = (100,100,100)\n",
        "        pixels[i*180+k+90][j+631] = (100,100,100)\n",
        "\n",
        "  for i in range(9):\n",
        "    for j in range(len(pixels)):\n",
        "      pixels[i*90][j] = (0,0,0)\n",
        "\n",
        "  for i in range(len(positions)):\n",
        "    for j in range(len(positions)):\n",
        "      #black pieces\n",
        "      if positions[i][j] == 0.0:\n",
        "        pixels = drawEmpty(i,j, pixels, 0)\n",
        "      #if positions[i][j] == 1.0:\n",
        "        #pixels = drawPawn(i,j, pixels, 0)\n",
        "      if positions[i][j] == 2.0:\n",
        "        pixels = drawRook(i,j, pixels, 0)\n",
        "      if positions[i][j] == 3.0:\n",
        "        pixels = drawKnight(i,j, pixels, 0)\n",
        "      if positions[i][j] == 4.0:\n",
        "        pixels = drawBishop(i,j, pixels, 0)\n",
        "      if positions[i][j] == 5.0:\n",
        "        pixels = drawQueen(i,j, pixels, 0)\n",
        "      if positions[i][j] == 6.0:\n",
        "        pixels = drawKing(i,j, pixels, 0)\n",
        "      #white pieces\n",
        "      #if positions[i][j] == 7.0:\n",
        "        #pixels = drawPawn(i,j, pixels, 1)\n",
        "      if positions[i][j] == 8.0:\n",
        "        pixels = drawRook(i,j, pixels, 1)\n",
        "      if positions[i][j] == 9.0:\n",
        "        pixels = drawKnight(i,j, pixels, 1)\n",
        "      if positions[i][j] == 10.0:\n",
        "        pixels = drawBishop(i,j, pixels, 1)\n",
        "      if positions[i][j] == 11.0:\n",
        "        pixels = drawQueen(i,j, pixels, 1)\n",
        "      if positions[i][j] == 12.0:\n",
        "        pixels = drawKing(i,j, pixels, 1)\n",
        "\n",
        "  return pixels"
      ],
      "metadata": {
        "id": "YEQZDwvfKCNu"
      },
      "execution_count": 619,
      "outputs": []
    },
    {
      "cell_type": "markdown",
      "source": [
        "###**Pieces** - Creates pieces as images"
      ],
      "metadata": {
        "id": "3wFBRiQEOd80"
      }
    },
    {
      "cell_type": "code",
      "source": [
        "def drawEmpty(i,j, pixels, color):\n",
        "  pixels[i*90+45][j*90+45] = 0\n",
        "  return pixels"
      ],
      "metadata": {
        "id": "OKzhaxcXelSX"
      },
      "execution_count": 620,
      "outputs": []
    },
    {
      "cell_type": "code",
      "source": [
        "def drawPawn(i, j, pixels, color):\n",
        "  #draw black pieces\n",
        "  if color == 0:\n",
        "    for k in range(-10, 11, 1):\n",
        "      y = np.sqrt(10**2 - k**2)\n",
        "      pixels[i*90+45-int(y)][j*90+45+k] = 0\n",
        "    for k in range(-10, 11, 1):\n",
        "      y = np.sqrt(10**2 - k**2)\n",
        "      pixels[i*90+45+int(y)][j*90+45+k] = 0\n",
        "  #draw white pieces\n",
        "  if color == 1:\n",
        "    for k in range(-10, 11, 1):\n",
        "      y = np.sqrt(10**2 - k**2)\n",
        "      pixels[i*90+45-int(y)][j*90+45+k] = 255\n",
        "    for k in range(-10, 11, 1):\n",
        "      y = np.sqrt(10**2 - k**2)\n",
        "      pixels[i*90+45+int(y)][j*90+45+k] = 255\n",
        "  return pixels"
      ],
      "metadata": {
        "id": "XahnGsYgOQi-"
      },
      "execution_count": 621,
      "outputs": []
    },
    {
      "cell_type": "code",
      "source": [
        "def drawRook(i,j, pixels, color):\n",
        "  #draw black pieces\n",
        "  if color == 0:\n",
        "    for k in range(21):\n",
        "      pixels[i*90+35+k][j*90+35] = 0\n",
        "      pixels[i*90+35+k][j*90+55] = 0\n",
        "    for k in range(21):\n",
        "      pixels[i*90+35][j*90+35+k] = 0\n",
        "      pixels[i*90+55][j*90+35+k] = 0\n",
        "    #draw white pieces\n",
        "  if color == 1:\n",
        "    for k in range(21):\n",
        "      pixels[i*90+35+k][j*90+35] = 255\n",
        "      pixels[i*90+35+k][j*90+55] = 255\n",
        "    for k in range(21):\n",
        "      pixels[i*90+35][j*90+35+k] = 255\n",
        "      pixels[i*90+55][j*90+35+k] = 255\n",
        "  return pixels"
      ],
      "metadata": {
        "id": "0fmPp8sYsVlU"
      },
      "execution_count": 622,
      "outputs": []
    },
    {
      "cell_type": "code",
      "source": [
        "def drawKnight(i,j, pixels, color):\n",
        "  #draw black pieces\n",
        "  if color == 0:\n",
        "    for k in range(21):\n",
        "      pixels[i*90+35+k][j*90+54-k] = 0\n",
        "      pixels[i*90+35+k][j*90+56-k] = 0\n",
        "    for k in range(21):\n",
        "      pixels[i*90+35][j*90+35+k] = 0\n",
        "      pixels[i*90+55][j*90+35+k] = 0\n",
        "  #draw white pieces\n",
        "  if color == 1:\n",
        "    for k in range(21):\n",
        "      pixels[i*90+35+k][j*90+54-k] = 255\n",
        "      pixels[i*90+35+k][j*90+56-k] = 255\n",
        "    for k in range(21):\n",
        "      pixels[i*90+35][j*90+35+k] = 255\n",
        "      pixels[i*90+55][j*90+35+k] = 255\n",
        "\n",
        "  return pixels"
      ],
      "metadata": {
        "id": "3uQgkbVDyiUk"
      },
      "execution_count": 623,
      "outputs": []
    },
    {
      "cell_type": "code",
      "source": [
        "def drawBishop(i,j, pixels, color):\n",
        "  #draw black piece\n",
        "  if color == 0:\n",
        "    for k in range(11):\n",
        "      pixels[i*90+45+k][j*90+35+k] = 0\n",
        "      pixels[i*90+45+k][j*90+55-k] = 0\n",
        "    for k in range(11):\n",
        "      pixels[i*90+35+k][j*90+45+k] = 0\n",
        "      pixels[i*90+35+k][j*90+45-k] = 0\n",
        "  #draw white piece\n",
        "  if color == 1:\n",
        "    for k in range(11):\n",
        "      pixels[i*90+45+k][j*90+35+k] = 255\n",
        "      pixels[i*90+45+k][j*90+55-k] = 255\n",
        "    for k in range(11):\n",
        "      pixels[i*90+35+k][j*90+45+k] = 255\n",
        "      pixels[i*90+35+k][j*90+45-k] = 255\n",
        "  return pixels"
      ],
      "metadata": {
        "id": "S3npXozbvSKa"
      },
      "execution_count": 624,
      "outputs": []
    },
    {
      "cell_type": "code",
      "source": [
        "def drawQueen(i,j,pixels, color): #draws queen symbol\n",
        "  #draw black pieces\n",
        "  if color == 0:\n",
        "    for k in range(-17, 18, 1):  #makes curve of crown y = sqrt(r^2 - x^2)\n",
        "      y = np.sqrt(20**2 - k**2)\n",
        "      pixels[i*90+45-int(y)+20][j*90+45+k] = 0\n",
        "    for k in range(-17, 18, 1):  #makes curve of crown\n",
        "      y = np.sqrt(20**2 - k**2)\n",
        "      pixels[i*90+45-int(y)+22][j*90+45+k] = 0\n",
        "\n",
        "    for k in range(-17, 18, 1): #makes spikes of the crown\n",
        "      y = np.sqrt(20**2 - k**2)\n",
        "      if k%4 == 0:\n",
        "        for u in range(13):\n",
        "          pixels[i*90+45-int(y)+20-u][j*90+45+k] = 0\n",
        "  #draw white pieces\n",
        "  if color == 1:\n",
        "    for k in range(-17, 18, 1):  #makes curve of crown y = sqrt(r^2 - x^2)\n",
        "      y = np.sqrt(20**2 - k**2)\n",
        "      pixels[i*90+45-int(y)+20][j*90+45+k] = 255\n",
        "    for k in range(-17, 18, 1):  #makes curve of crown\n",
        "      y = np.sqrt(20**2 - k**2)\n",
        "      pixels[i*90+45-int(y)+22][j*90+45+k] = 255\n",
        "\n",
        "    for k in range(-17, 18, 1): #makes spikes of the crown\n",
        "      y = np.sqrt(20**2 - k**2)\n",
        "      if k%4 == 0:\n",
        "        for u in range(13):\n",
        "          pixels[i*90+45-int(y)+20-u][j*90+45+k] = 255\n",
        "  return pixels"
      ],
      "metadata": {
        "id": "iVfiXQST3JSt"
      },
      "execution_count": 625,
      "outputs": []
    },
    {
      "cell_type": "code",
      "source": [
        "def drawKing(i,j,pixels, color): #draws King symbol\n",
        "  #draw black pieces\n",
        "  if color == 0:\n",
        "    for k in range(-17, 18, 1):  #makes curve of crown y = sqrt(r^2 - x^2)\n",
        "      y = np.sqrt(20**2 - k**2)\n",
        "      pixels[i*90+45-int(y)+20][j*90+45+k] = 0\n",
        "\n",
        "\n",
        "    for k in range(-17, 18, 1): #makes spikes of the crown\n",
        "      y = np.sqrt(20**2 - k**2)\n",
        "      if k%8 == 0:\n",
        "        for u in range(11):\n",
        "          pixels[i*90+45-int(y)+20-u][j*90+45+k] = 0\n",
        "  #draw white pieces\n",
        "  if color == 1:\n",
        "    for k in range(-17, 18, 1):  #makes curve of crown y = sqrt(r^2 - x^2)\n",
        "      y = np.sqrt(20**2 - k**2)\n",
        "      pixels[i*90+45-int(y)+20][j*90+45+k] = 255\n",
        "\n",
        "\n",
        "    for k in range(-17, 18, 1): #makes spikes of the crown\n",
        "      y = np.sqrt(20**2 - k**2)\n",
        "      if k%8 == 0:\n",
        "        for u in range(11):\n",
        "          pixels[i*90+45-int(y)+20-u][j*90+45+k] = 255\n",
        "\n",
        "  return pixels"
      ],
      "metadata": {
        "id": "uNgWeWzxJ57k"
      },
      "execution_count": 626,
      "outputs": []
    },
    {
      "cell_type": "markdown",
      "source": [
        "###**Adds text** - In order to know each board position"
      ],
      "metadata": {
        "id": "kV9Lp6WrOhQn"
      }
    },
    {
      "cell_type": "code",
      "source": [
        "def addPositionText(img):\n",
        "  for i in range(8):\n",
        "    for j in range(8):\n",
        "      A1 = ImageDraw.Draw(img)\n",
        "      A1.text((90*j+75, 90*i+2), \"{}{}\".format(chr(65+i), j+1), fill=(0, 0, 0))\n",
        "\n",
        "  return img"
      ],
      "metadata": {
        "id": "sFFiqKVHTg-j"
      },
      "execution_count": 627,
      "outputs": []
    },
    {
      "cell_type": "markdown",
      "source": [
        "###**Anti-aliasing** - To make our pawn circles more clean"
      ],
      "metadata": {
        "id": "IzZ_hQ54BaDU"
      }
    },
    {
      "cell_type": "code",
      "source": [
        "#anti-aliasing pawn shape\n",
        "\n",
        "#size of our circular pawn\n",
        "size = 20\n",
        "\n",
        "#creates our circle within a 20x20 pixel square\n",
        "x_arr = np.linspace(-1,1,size)\n",
        "y_arr = x_arr\n",
        "xy_arr = np.add.outer(x_arr**2, y_arr**2)\n",
        "\n",
        "#anti-aliasing equation to create strengths of values, where f(x,y) --> inf as (x,y) --> circle\n",
        "circ_arr = (1/np.abs(xy_arr - 1))\n",
        "circ_arr_weighted = circ_arr.astype(np.uint8)\n",
        "\n",
        "#adjusts scale s.t. f([a,b]) --> [0,255], where a & b is any real number.\n",
        "def scale(A):\n",
        "  m = 0\n",
        "  for i in range(len(A)):\n",
        "    if max(A[i] > m):\n",
        "      m = max(A[i])\n",
        "  for i in range(len(A)):\n",
        "    for j in range(len(A)):\n",
        "      A[i][j] = ((A[i][j])*255)/m\n",
        "  return A\n",
        "\n",
        "#swaps scale s.t. f([0,255]) --> [255,0] in order to manipulate circle values easily\n",
        "def swap_scale(A):\n",
        "  maxIndex = A.argmax()\n",
        "  return -np.array(A) + A[unravel_index(A.argmax(), A.shape)[0]][unravel_index(A.argmax(), A.shape)[1]]\n",
        "\n",
        "#darkens circle values for anti-aliasing\n",
        "def darken_circle(A, background):\n",
        "  for i in range(len(A)):\n",
        "    for j in range(len(A)):\n",
        "      if A[i][j] > 230:\n",
        "        A[i][j] = background\n",
        "      elif A[i][j] < 230:\n",
        "        A[i][j] = 0\n",
        "  return A\n",
        "\n",
        "#lightens circle values for anti-aliasing\n",
        "def lighten_circle(A, background):\n",
        "  for i in range(len(A)):\n",
        "    for j in range(len(A)):\n",
        "      if A[i][j] < 230:\n",
        "        A[i][j] = 255\n",
        "      elif A[i][j] > 230:\n",
        "        A[i][j] = background\n",
        "  return A\n",
        "\n",
        "#sets up pawn to draw\n",
        "def anti_aliasing(pawn_arr, background, pawn_color):\n",
        "    pawn_arr = scale(pawn_arr.astype(np.uint8))\n",
        "    pawn_arr = swap_scale(pawn_arr)\n",
        "    if pawn_color == 'black':\n",
        "      if background == 0:\n",
        "        pawn_arr = darken_circle(pawn_arr, 200)\n",
        "      else:\n",
        "        pawn_arr = darken_circle(pawn_arr, 100)\n",
        "    if pawn_color == 'white':\n",
        "      if background == 0:\n",
        "        pawn_arr = lighten_circle(pawn_arr, 200)\n",
        "      else:\n",
        "        pawn_arr = lighten_circle(pawn_arr, 100)\n",
        "    return pawn_arr\n",
        "\n",
        "#pastes created image of anti-aliased circle\n",
        "def draw_anti_aliasing_pawn(img, positions):\n",
        "  for i in range(len(positions)):\n",
        "    for j in range(len(positions)):\n",
        "      if (positions[i][j] == 1): #paste black pieces\n",
        "        if (i%2 == 0 and j%2 == 0):\n",
        "          img.paste(im2, (35+j*90, 35+i*90))\n",
        "        if (i%2 == 1 and j%2 == 1):\n",
        "          img.paste(im2, (35+j*90, 35+i*90))\n",
        "        if (i%2 == 0 and j%2 == 1):\n",
        "          img.paste(im1, (35+j*90, 35+i*90))\n",
        "        if (i%2 == 1 and j%2 == 0):\n",
        "          img.paste(im1, (35+j*90, 35+i*90))\n",
        "\n",
        "\n",
        "      if (positions[i][j] == 7): #paste white pieces\n",
        "        if (i%2 == 0 and j%2 == 0):\n",
        "          img.paste(im4, (35+j*90, 35+i*90))\n",
        "        if (i%2 == 1 and j%2 == 1):\n",
        "          img.paste(im4, (35+j*90, 35+i*90))\n",
        "        if (i%2 == 0 and j%2 == 1):\n",
        "          img.paste(im3, (35+j*90, 35+i*90))\n",
        "        if (i%2 == 1 and j%2 == 0):\n",
        "          img.paste(im3, (35+j*90, 35+i*90))\n",
        "\n",
        "\n",
        "  return img\n",
        "\n",
        "#appending images to background\n",
        "light_square_black_piece = anti_aliasing(circ_arr, 0, 'black')\n",
        "dark_square_black_piece = anti_aliasing(circ_arr, 1, 'black')\n",
        "light_square_white_piece = anti_aliasing(circ_arr, 0, 'white')\n",
        "dark_square_white_piece = anti_aliasing(circ_arr, 1, 'white')\n",
        "\n",
        "#creates images to be appended\n",
        "im1 = Image.fromarray(light_square_black_piece)\n",
        "im2 = Image.fromarray(dark_square_black_piece)\n",
        "im3 = Image.fromarray(light_square_white_piece)\n",
        "im4 = Image.fromarray(dark_square_white_piece)\n",
        "im1.show()\n",
        "im2.show()\n",
        "im3.show()\n",
        "im4.show()"
      ],
      "metadata": {
        "id": "altQRxoF4gmM",
        "colab": {
          "base_uri": "https://localhost:8080/",
          "height": 97
        },
        "outputId": "6474b07a-c695-458b-c317-fc651c315705"
      },
      "execution_count": 628,
      "outputs": [
        {
          "output_type": "display_data",
          "data": {
            "text/plain": [
              "<PIL.Image.Image image mode=L size=20x20 at 0x788581536170>"
            ],
            "image/png": "[encoded data removed]"
          },
          "metadata": {}
        },
        {
          "output_type": "display_data",
          "data": {
            "text/plain": [
              "<PIL.Image.Image image mode=L size=20x20 at 0x788581536920>"
            ],
            "image/png": "[encoded data removed]"
          },
          "metadata": {}
        },
        {
          "output_type": "display_data",
          "data": {
            "text/plain": [
              "<PIL.Image.Image image mode=L size=20x20 at 0x788581535FC0>"
            ],
            "image/png": "[encoded data removed]"
          },
          "metadata": {}
        },
        {
          "output_type": "display_data",
          "data": {
            "text/plain": [
              "<PIL.Image.Image image mode=L size=20x20 at 0x788581537250>"
            ],
            "image/png": "[encoded data removed]"
          },
          "metadata": {}
        }
      ]
    },
    {
      "cell_type": "markdown",
      "source": [
        "###**Getters and Setters** - of Pieces on the board"
      ],
      "metadata": {
        "id": "KdvIqNd9lTyu"
      }
    },
    {
      "cell_type": "code",
      "source": [
        "def getPiece(coordinate):\n",
        "  return positions[ord(coordinate[0])-65][int(coordinate[1])-1]\n",
        "\n",
        "def setPiece(piece, coordinate):\n",
        "  positions[ord(coordinate[0])-65][int(coordinate[1])-1] = piece\n",
        "\n",
        "def getPieceName(piece):\n",
        "  #black pieces\n",
        "    if piece == 0.0:\n",
        "      return \"Empty\"\n",
        "    if piece == 1.0:\n",
        "      return \"Black pawn\"\n",
        "    if piece == 2.0:\n",
        "      return \"Black rook\"\n",
        "    if piece == 3.0:\n",
        "      return \"Black knight\"\n",
        "    if piece == 4.0:\n",
        "      return \"Black bishop\"\n",
        "    if piece == 5.0:\n",
        "      return \"Black queen\"\n",
        "    if piece == 6.0:\n",
        "      return \"Black king\"\n",
        "    #white pieces\n",
        "    if piece == 7.0:\n",
        "      return \"White pawn\"\n",
        "    if piece == 8.0:\n",
        "      return \"White rook\"\n",
        "    if piece == 9.0:\n",
        "      return \"White knight\"\n",
        "    if piece == 10.0:\n",
        "      return \"White bishop\"\n",
        "    if piece == 11.0:\n",
        "      return \"White queen\"\n",
        "    if piece == 12.0:\n",
        "      return \"White king\""
      ],
      "metadata": {
        "id": "INJPejVkTmLo"
      },
      "execution_count": 629,
      "outputs": []
    },
    {
      "cell_type": "code",
      "source": [
        "def move_piece(prev_position, new_position):\n",
        "  piece = 0\n",
        "  piece = getPiece(prev_position)\n",
        "  if piece != 0:\n",
        "    print(\"{} moved to {}\".format(getPieceName(piece), new_position))\n",
        "    setPiece(0, prev_position)\n",
        "    setPiece(piece, new_position)\n",
        "  else:\n",
        "    print(\"This space is empty.\")"
      ],
      "metadata": {
        "id": "UKZQPIPF8h_7"
      },
      "execution_count": 630,
      "outputs": []
    },
    {
      "cell_type": "markdown",
      "source": [
        "###**Chess environment** - Created when this code cell is executed"
      ],
      "metadata": {
        "id": "GtDvXMfBPQv6"
      }
    },
    {
      "cell_type": "code",
      "source": [
        "#for creating custom board set up\n",
        "positions = [[ 2,  3,  4,  6,  5,  4,  3,  2,],\n",
        "            [ 1,  1,  1,  1,  1,  1,  1,  1,],\n",
        "            [ 0,  0,  0,  0,  0,  0,  0,  0,],\n",
        "            [ 0,  0,  0,  0,  0,  0,  0,  0,],\n",
        "            [ 0,  0,  0,  0,  0,  0,  0,  0,],\n",
        "            [ 0,  0,  0,  0,  0,  0,  0,  0,],\n",
        "            [ 7,  7,  7,  7,  7,  7,  7,  7,],\n",
        "            [ 8,  9, 10, 12, 11, 10,  9,  8,]]"
      ],
      "metadata": {
        "id": "6Z30gwnPfgrj"
      },
      "execution_count": 631,
      "outputs": []
    },
    {
      "cell_type": "code",
      "source": [
        "#move_piece(\"H4\", \"C4\") #use this to move pieces on the board.\n",
        "positions = resetBoard(positions)\n",
        "\n",
        "img = Image.fromarray(boardImage(positions))\n",
        "img = draw_anti_aliasing_pawn(img, positions) #anti-aliasing\n",
        "img = addPositionText(img)\n",
        "img.show()\n",
        "\n",
        "while 6 in positions and 12 in positions:\n",
        "  first = input(\"Please type in current position.\\n\")\n",
        "  second = input(\"Please type in desired new position.\\n\")\n",
        "  move_piece(first, second)\n",
        "  img = Image.fromarray(boardImage(positions))\n",
        "  img = draw_anti_aliasing_pawn(img, positions) #anti-aliasing\n",
        "  img = addPositionText(img)\n",
        "  img.show()\n",
        "\n",
        "if 6 in positions and 12 in positions:\n",
        "  print(\"Game ended. No one wins.\")\n",
        "elif 6 in positions:\n",
        "  print(\"End of game. Black wins!\")\n",
        "elif 12 in positions:\n",
        "  print(\"End of game. White wins!\")\n",
        "\n",
        "\n",
        "#display(img)\n",
        "#img.save('Chess.png')"
      ],
      "metadata": {
        "colab": {
          "base_uri": "https://localhost:8080/",
          "height": 1000
        },
        "id": "9JQJw5LmKOCz",
        "outputId": "0d5efec3-cbf9-4153-f29c-28151998d92e"
      },
      "execution_count": 646,
      "outputs": [
        {
          "output_type": "display_data",
          "data": {
            "text/plain": [
              "<PIL.Image.Image image mode=RGB size=721x721 at 0x788592ACC6A0>"
            ],
            "image/png": "[encoded data removed]"
          },
          "metadata": {}
        },
        {
          "output_type": "stream",
          "name": "stdout",
          "text": [
            "Please type in current position.\n",
            "G4\n",
            "Please type in desired new position.\n",
            "H4\n",
            "White pawn moved to H4\n"
          ]
        },
        {
          "output_type": "display_data",
          "data": {
            "text/plain": [
              "<PIL.Image.Image image mode=RGB size=721x721 at 0x788581206800>"
            ],
            "image/png": "[encoded data removed]"
          },
          "metadata": {}
        },
        {
          "output_type": "stream",
          "name": "stdout",
          "text": [
            "End of game. Black wins!\n"
          ]
        }
      ]
    },
    {
      "cell_type": "code",
      "source": [],
      "metadata": {
        "id": "QgzwyIdgU_4X"
      },
      "execution_count": 510,
      "outputs": []
    }
  ]
}