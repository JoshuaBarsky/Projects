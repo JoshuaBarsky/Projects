{
  "nbformat": 4,
  "nbformat_minor": 0,
  "metadata": {
    "colab": {
      "provenance": [],
      "authorship_tag": "ABX9TyPC5dzjkCaOnKm0BceuIXHF",
      "include_colab_link": true
    },
    "kernelspec": {
      "name": "python3",
      "display_name": "Python 3"
    },
    "language_info": {
      "name": "python"
    }
  },
  "cells": [
    {
      "cell_type": "markdown",
      "metadata": {
        "id": "view-in-github",
        "colab_type": "text"
      },
      "source": [
        "<a href=\"https://colab.research.google.com/github/JoshuaBarsky/Projects/blob/main/Chess_from_scratch.ipynb\" target=\"_parent\"><img src=\"https://colab.research.google.com/assets/colab-badge.svg\" alt=\"Open In Colab\"/></a>"
      ]
    },
    {
      "cell_type": "markdown",
      "source": [
        "##**Chess from scratch**\n",
        "\n",
        "Everything is created by Python Image Library (PIL) <u>per-pixel</u> manipulations using algebraic equations to create geometric shapes.\n",
        "\n",
        "https://en.wikipedia.org/wiki/Python_Imaging_Library\n",
        "\n"
      ],
      "metadata": {
        "id": "aXVJXXmKKp8B"
      }
    },
    {
      "cell_type": "markdown",
      "source": [
        "This chess game will contain:\n",
        "\n",
        "\n",
        "*   Board created from scratch (pixel level).\n",
        "*   Chess pieces created from scratch (pixel level).\n",
        "*   Numbered positions (A1, B1, B2, etc.)\n",
        "*   Allow only certain possible moves.\n",
        "*   Simple interface to play.\n",
        "*   Score keeping.\n",
        "*   AI vs player.\n",
        "\n",
        "\n"
      ],
      "metadata": {
        "id": "lz7FPGsBMZuF"
      }
    },
    {
      "cell_type": "code",
      "execution_count": 3,
      "metadata": {
        "id": "PJogVLA8CBUQ"
      },
      "outputs": [],
      "source": [
        "import numpy as np\n",
        "from PIL import Image"
      ]
    },
    {
      "cell_type": "code",
      "source": [
        "def resetBoard(positions):\n",
        "  for i in range(8):\n",
        "    positions[1][i] = 1 #pawn\n",
        "  for i in range(8):\n",
        "    if i==0 or i == 7:\n",
        "      positions[0][i] = 2\n",
        "  for i in range(8):\n",
        "    if i==1 or i == 6:\n",
        "      positions[0][i] = 3\n",
        "  for i in range(8):\n",
        "    if i==2 or i == 5:\n",
        "      positions[0][i] = 4\n",
        "  positions[0][3] = 5 #queen\n",
        "  positions[0][4] = 6 #king\n",
        "  return positions"
      ],
      "metadata": {
        "id": "QEsyQwdTzrgc"
      },
      "execution_count": 4,
      "outputs": []
    },
    {
      "cell_type": "code",
      "source": [
        "positions = np.zeros((8,8))\n",
        "#0 = Empty\n",
        "#1 = Pawn\n",
        "#2 = Rook\n",
        "#3 = Knight\n",
        "#4 = Bishop\n",
        "#5 = Queen\n",
        "#6 = King\n",
        "positions = resetBoard(positions)"
      ],
      "metadata": {
        "id": "7V0gLUQpboQG"
      },
      "execution_count": 5,
      "outputs": []
    },
    {
      "cell_type": "code",
      "source": [
        "def boardImage(positions):\n",
        "  pixels = np.random.randint(0,256,(721,721,3), dtype = np.uint8)\n",
        "\n",
        "  for i in range(len(pixels)):\n",
        "    for k in range(len(pixels)):\n",
        "      pixels[i][k] = (230,230,230)\n",
        "    for j in range(9):\n",
        "      pixels[i][j*90] = (0,0,0)\n",
        "\n",
        "  for i in range(4):  #makes dark squares\n",
        "    for k in range(90):\n",
        "      for j in range(89):\n",
        "        pixels[i*180+k][j+1] = (150,150,150)\n",
        "\n",
        "  for i in range(9):\n",
        "    for j in range(len(pixels)):\n",
        "      pixels[i*90][j] = (0,0,0)\n",
        "\n",
        "  for i in range(len(positions)):\n",
        "    for j in range(len(positions)):\n",
        "      if positions[i][j] == 0.0:\n",
        "        pixels = drawEmpty(i,j, pixels)\n",
        "      if positions[i][j] == 1.0:\n",
        "        pixels = drawPawn(i,j, pixels)\n",
        "      if positions[i][j] == 2.0:\n",
        "        pixels = drawRook(i,j, pixels)\n",
        "      if positions[i][j] == 3.0:\n",
        "        pixels = drawKnight(i,j, pixels)\n",
        "      if positions[i][j] == 4.0:\n",
        "        pixels = drawBishop(i,j, pixels)\n",
        "      if positions[i][j] == 5.0:\n",
        "        pixels = drawQueen(i,j, pixels)\n",
        "      if positions[i][j] == 6.0:\n",
        "        pixels = drawKing(i,j, pixels)\n",
        "\n",
        "  return pixels"
      ],
      "metadata": {
        "id": "YEQZDwvfKCNu"
      },
      "execution_count": 29,
      "outputs": []
    },
    {
      "cell_type": "code",
      "source": [
        "def drawEmpty(i,j, pixels):\n",
        "  pixels[i*90+45][j*90+45] = 0\n",
        "  return pixels"
      ],
      "metadata": {
        "id": "OKzhaxcXelSX"
      },
      "execution_count": 7,
      "outputs": []
    },
    {
      "cell_type": "code",
      "source": [
        "def drawPawn(i, j, pixels):\n",
        "  for k in range(-10, 11, 1):\n",
        "    y = np.sqrt(10**2 - k**2)\n",
        "    pixels[i*90+45-int(y)][j*90+45+k] = 0\n",
        "  for k in range(-10, 11, 1):\n",
        "    y = np.sqrt(10**2 - k**2)\n",
        "    pixels[i*90+45+int(y)][j*90+45+k] = 0\n",
        "  return pixels"
      ],
      "metadata": {
        "id": "XahnGsYgOQi-"
      },
      "execution_count": 8,
      "outputs": []
    },
    {
      "cell_type": "code",
      "source": [
        "def drawRook(i,j, pixels):\n",
        "  for k in range(21):\n",
        "    pixels[i*90+35+k][j*90+35] = 0\n",
        "    pixels[i*90+35+k][j*90+55] = 0\n",
        "  for k in range(21):\n",
        "    pixels[i*90+35][j*90+35+k] = 0\n",
        "    pixels[i*90+55][j*90+35+k] = 0\n",
        "  return pixels"
      ],
      "metadata": {
        "id": "0fmPp8sYsVlU"
      },
      "execution_count": 9,
      "outputs": []
    },
    {
      "cell_type": "code",
      "source": [
        "def drawKnight(i,j, pixels):\n",
        "  for k in range(21):\n",
        "    pixels[i*90+35+k][j*90+54-k] = 0\n",
        "    pixels[i*90+35+k][j*90+56-k] = 0\n",
        "  for k in range(21):\n",
        "    pixels[i*90+35][j*90+35+k] = 0\n",
        "    pixels[i*90+55][j*90+35+k] = 0\n",
        "  return pixels"
      ],
      "metadata": {
        "id": "3uQgkbVDyiUk"
      },
      "execution_count": 10,
      "outputs": []
    },
    {
      "cell_type": "code",
      "source": [
        "def drawBishop(i,j, pixels):\n",
        "  for k in range(11):\n",
        "    pixels[i*90+45+k][j*90+35+k] = 0\n",
        "    pixels[i*90+45+k][j*90+55-k] = 0\n",
        "  for k in range(11):\n",
        "    pixels[i*90+35+k][j*90+45+k] = 0\n",
        "    pixels[i*90+35+k][j*90+45-k] = 0\n",
        "  return pixels"
      ],
      "metadata": {
        "id": "S3npXozbvSKa"
      },
      "execution_count": 11,
      "outputs": []
    },
    {
      "cell_type": "code",
      "source": [
        "def drawQueen(i,j,pixels): #draws queen symbol\n",
        "  #y = sqrt(r^2 - x^2)\n",
        "  for k in range(-17, 18, 1):  #makes curve of crown\n",
        "    y = np.sqrt(20**2 - k**2)\n",
        "    pixels[i*90+45-int(y)+20][j*90+45+k] = 0\n",
        "  for k in range(-17, 18, 1):  #makes curve of crown\n",
        "    y = np.sqrt(20**2 - k**2)\n",
        "    pixels[i*90+45-int(y)+22][j*90+45+k] = 0\n",
        "\n",
        "  for k in range(-17, 18, 1): #makes spikes of the crown\n",
        "    y = np.sqrt(20**2 - k**2)\n",
        "    if k%4 == 0:\n",
        "      for u in range(13):\n",
        "        pixels[i*90+45-int(y)+20-u][j*90+45+k] = 0\n",
        "  return pixels"
      ],
      "metadata": {
        "id": "iVfiXQST3JSt"
      },
      "execution_count": 12,
      "outputs": []
    },
    {
      "cell_type": "code",
      "source": [
        "def drawKing(i,j,pixels): #draws King symbol\n",
        "  #y = sqrt(r^2 - x^2)\n",
        "  for k in range(-17, 18, 1):  #makes curve of crown\n",
        "    y = np.sqrt(20**2 - k**2)\n",
        "    pixels[i*90+45-int(y)+20][j*90+45+k] = 0\n",
        "\n",
        "\n",
        "  for k in range(-17, 18, 1): #makes spikes of the crown\n",
        "    y = np.sqrt(20**2 - k**2)\n",
        "    if k%8 == 0:\n",
        "      for u in range(11):\n",
        "        pixels[i*90+45-int(y)+20-u][j*90+45+k] = 0\n",
        "  return pixels"
      ],
      "metadata": {
        "id": "uNgWeWzxJ57k"
      },
      "execution_count": 13,
      "outputs": []
    },
    {
      "cell_type": "code",
      "source": [
        "img = Image.fromarray(boardImage(positions))\n",
        "display(img)\n",
        "img.save('dots.png')"
      ],
      "metadata": {
        "colab": {
          "base_uri": "https://localhost:8080/",
          "height": 738
        },
        "id": "9JQJw5LmKOCz",
        "outputId": "66914361-461f-4960-af20-fd217468c0ca"
      },
      "execution_count": 30,
      "outputs": [
        {
          "output_type": "display_data",
          "data": {
            "text/plain": [
              "<PIL.Image.Image image mode=RGB size=721x721 at 0x7C70C04E7B20>"
            ],
            "image/png": "[encoded data removed]"
          },
          "metadata": {}
        }
      ]
    }
  ]
}