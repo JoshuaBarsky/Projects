{
  "nbformat": 4,
  "nbformat_minor": 0,
  "metadata": {
    "colab": {
      "provenance": [],
      "authorship_tag": "ABX9TyOsg1adcEY4iLQ+IIrviVSj",
      "include_colab_link": true
    },
    "kernelspec": {
      "name": "python3",
      "display_name": "Python 3"
    },
    "language_info": {
      "name": "python"
    }
  },
  "cells": [
    {
      "cell_type": "markdown",
      "metadata": {
        "id": "view-in-github",
        "colab_type": "text"
      },
      "source": [
        "<a href=\"https://colab.research.google.com/github/JoshuaBarsky/Projects/blob/main/Chessboard_puzzle.ipynb\" target=\"_parent\"><img src=\"https://colab.research.google.com/assets/colab-badge.svg\" alt=\"Open In Colab\"/></a>"
      ]
    },
    {
      "cell_type": "markdown",
      "source": [
        "##**Prisoner Chess Puzzle**\n",
        "The objective of this game is to be able to flip just one coin in any arrangement of heads and tails on a chessboard, where your single flip would strategically point to one (and only one) specific square on the board.\n",
        "\n",
        "\n",
        "A more detailed description can be found by watching the video below.\n",
        "\\\n",
        "https://www.youtube.com/watch?v=wTJI_WuZSwE\n",
        "\n",
        "\n",
        "*For setting colors*: Color palette website\n",
        "\\\n",
        "https://coolors.co/0b3954-bfd7ea-ff6663-e0ff4f-fefffe"
      ],
      "metadata": {
        "id": "GDr1quXJ0NY3"
      }
    },
    {
      "cell_type": "code",
      "execution_count": 220,
      "metadata": {
        "id": "g0AH-Bp8j-FT"
      },
      "outputs": [],
      "source": [
        "import numpy as np\n",
        "from numpy import unravel_index\n",
        "from PIL import Image, ImageDraw, ImageFont\n",
        "\n",
        "#gets font from OS\n",
        "import os\n",
        "import cv2"
      ]
    },
    {
      "cell_type": "code",
      "source": [
        "positions = [[ 0,  0,  0,  0,  0,  0,  0,  0,],\n",
        "            [ 1,  1,  1,  1,  1,  1,  1,  1,],\n",
        "            [ 0,  0,  0,  0,  0,  0,  0,  0,],\n",
        "            [ 0,  0,  0,  0,  0,  0,  0,  0,],\n",
        "            [ 0,  0,  0,  0,  0,  0,  0,  0,],\n",
        "            [ 0,  0,  0,  0,  0,  0,  0,  0,],\n",
        "            [ 0,  0,  0,  0,  0,  0,  0,  0,],\n",
        "            [ 0,  0,  0,  0,  0,  0,  0,  0]]"
      ],
      "metadata": {
        "id": "VrbI72ZPkndg"
      },
      "execution_count": 221,
      "outputs": []
    },
    {
      "cell_type": "code",
      "source": [
        "def boardImage():\n",
        "  pixels = np.random.randint(0,256,(721,721,3), dtype = np.uint8)\n",
        "\n",
        "  #color adjust\n",
        "  backdrop_color = (191,215,234)\n",
        "  squares_color = (11,57,84)\n",
        "  border_color = (254,255,254)\n",
        "\n",
        "  for i in range(len(pixels)):\n",
        "    for k in range(len(pixels)):\n",
        "      pixels[i][k] = backdrop_color\n",
        "    for j in range(9):\n",
        "      pixels[i][j*90] = border_color\n",
        "\n",
        "  for i in range(4):  #makes dark squares\n",
        "    for k in range(90):\n",
        "      for j in range(89):\n",
        "        pixels[i*180+k][j+1] = squares_color\n",
        "        pixels[i*180+k][j+181] = squares_color\n",
        "        pixels[i*180+k][j+361] = squares_color\n",
        "        pixels[i*180+k][j+541] = squares_color\n",
        "\n",
        "  for i in range(4):  #makes dark squares\n",
        "    for k in range(90):\n",
        "      for j in range(89):\n",
        "        pixels[i*180+k+90][j+91] = squares_color\n",
        "        pixels[i*180+k+90][j+271] = squares_color\n",
        "        pixels[i*180+k+90][j+451] = squares_color\n",
        "        pixels[i*180+k+90][j+631] = squares_color\n",
        "\n",
        "  for i in range(9):\n",
        "    for j in range(len(pixels)):\n",
        "      pixels[i*90][j] = border_color\n",
        "\n",
        "  return pixels\n",
        ""
      ],
      "metadata": {
        "id": "_KeJBHYOkMF7"
      },
      "execution_count": 222,
      "outputs": []
    },
    {
      "cell_type": "code",
      "source": [
        "def drawTails(img, positions):\n",
        "  for i in range(len(positions)):\n",
        "    for j in range(len(positions)):\n",
        "      if positions[i][j] == 0:\n",
        "        T = ImageDraw.Draw(img)\n",
        "        font_path = os.path.join(cv2.__path__[0],'qt','fonts','DejaVuSans.ttf')\n",
        "        f = ImageFont.truetype(font_path, size=60)\n",
        "        T.text((90*j+25, 90*i+15), \"T\", font=f, fill=(255,102,99))\n",
        "  return img\n",
        "\n",
        "def drawHeads(img, positions):\n",
        "  for i in range(len(positions)):\n",
        "    for j in range(len(positions)):\n",
        "      if positions[i][j] == 1:\n",
        "        T = ImageDraw.Draw(img)\n",
        "        font_path = os.path.join(cv2.__path__[0],'qt','fonts','DejaVuSans.ttf')\n",
        "        f = ImageFont.truetype(font_path, size=60)\n",
        "        T.text((90*j+25, 90*i+15), \"H\", font=f, fill=(224,255,79))\n",
        "  return img"
      ],
      "metadata": {
        "id": "0BSVL-v0k4Ey"
      },
      "execution_count": 223,
      "outputs": []
    },
    {
      "cell_type": "code",
      "source": [
        "def addPositionText(img):\n",
        "  for i in range(8):\n",
        "    for j in range(8):\n",
        "      T = ImageDraw.Draw(img)\n",
        "      T.text((90*j+75, 90*i+2), \"{}{}\".format(chr(65+i), j+1), fill=(0, 0, 0))\n",
        "\n",
        "  return img"
      ],
      "metadata": {
        "id": "LmrAM6RwmtSf"
      },
      "execution_count": 224,
      "outputs": []
    },
    {
      "cell_type": "code",
      "source": [
        "img = Image.fromarray(boardImage())\n",
        "img = addPositionText(img)\n",
        "img = drawHeads(img, positions)\n",
        "img = drawTails(img, positions)\n",
        "img.show()"
      ],
      "metadata": {
        "colab": {
          "base_uri": "https://localhost:8080/",
          "height": 738
        },
        "id": "Fbd7T8mYlFK5",
        "outputId": "048e4f4b-a992-48b3-e6a0-33e6e731aaee"
      },
      "execution_count": 225,
      "outputs": [
        {
          "output_type": "display_data",
          "data": {
            "text/plain": [
              "<PIL.Image.Image image mode=RGB size=721x721 at 0x7FE227FE3A90>"
            ],
            "image/png": "[encoded data removed]"
          },
          "metadata": {}
        }
      ]
    },
    {
      "cell_type": "code",
      "source": [],
      "metadata": {
        "id": "qT26dyt40JzN"
      },
      "execution_count": null,
      "outputs": []
    }
  ]
}