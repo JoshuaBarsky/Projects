{
  "nbformat": 4,
  "nbformat_minor": 0,
  "metadata": {
    "colab": {
      "provenance": [],
      "authorship_tag": "ABX9TyNljEmJMJq31GSFJFpt+Wa9",
      "include_colab_link": true
    },
    "kernelspec": {
      "name": "python3",
      "display_name": "Python 3"
    },
    "language_info": {
      "name": "python"
    }
  },
  "cells": [
    {
      "cell_type": "markdown",
      "metadata": {
        "id": "view-in-github",
        "colab_type": "text"
      },
      "source": [
        "<a href=\"https://colab.research.google.com/github/JoshuaBarsky/Projects/blob/main/OSPF_Simulation.ipynb\" target=\"_parent\"><img src=\"https://colab.research.google.com/assets/colab-badge.svg\" alt=\"Open In Colab\"/></a>"
      ]
    },
    {
      "cell_type": "markdown",
      "source": [
        "##**OSPF program simulation.**\n",
        "\n",
        "This is a program that simulates OSPF between two routers.\n",
        "\n",
        "\n",
        "\n",
        "> \"OSPF will listen to neighbors and gather all link state data available to build a topology map of all available paths in its network and then save the information in its topology database\"\n",
        ">\n",
        "> https://www.linkedin.com/pulse/ospf-routing-protocol-use-cases-surayya-shaikh/\n",
        "\n",
        "**This program is mainly for demonstration purposes only.**\n",
        "\n",
        "\n",
        "\n",
        "\n",
        "\n",
        "\n",
        "\n",
        "\n"
      ],
      "metadata": {
        "id": "nMQo8RP-VCuc"
      }
    },
    {
      "cell_type": "markdown",
      "source": [
        "This program is designed around Object Oriented Programming.\n",
        "\n",
        "There are two routers in this program as follows.\n",
        "\n",
        "\n",
        "*   Router 1: R1\n",
        "*   Router 2: R2\n",
        "\n",
        "Each router contains the following information:\n",
        "\n",
        "\n",
        "*   Router ID\n",
        "*   Router Number\n",
        "*   Router Mac address\n",
        "*   Neighbor Table (neighbor Mac, neighbor IP)\n",
        "*   Incoming comms (cache)\n",
        "\n",
        "\n",
        "\n"
      ],
      "metadata": {
        "id": "YQnUH7Dg-ZM3"
      }
    },
    {
      "cell_type": "markdown",
      "source": [
        "In this demonstration, R1 and R2 will learn of one another's Mac address and IP addresses via OSPF hello messages.\n",
        "\n",
        "These hello messages are packaged with the following.\n",
        "\n",
        "\n",
        "*   Ethernet header (source and destination Mac Address)\n",
        "*   IP Header (source and destination IP Address)\n",
        "*   Packet data\n",
        "*   Packet type\n",
        "\n",
        "The packet is structured as shown below.\n",
        "\n",
        "##[source Mac, destination Mac, source IP, destination IP, message, OSPF packet type]\n",
        "\n",
        "*Please note: in this demonstration packet type 1 is a hello message, while packet type 2 is an encrypted message. This does not represent actual packet types but was created for the purposes of this demonstration.*\n",
        "\n"
      ],
      "metadata": {
        "id": "icjagd8J_LII"
      }
    },
    {
      "cell_type": "markdown",
      "source": [
        "###Encryption\n",
        "The encrypted portion of the code demonstrates how encrypted messages can be sent via a network. This does not use actual asymmetric encryption since, as in real world applications, but it does use a private key based encryption method. Given both R1 and R2 have the same encryption key, encrypted messages can be shared between the two devices without unwanted peering eyes seeing what's being shared."
      ],
      "metadata": {
        "id": "apjJRZOsBDKo"
      }
    },
    {
      "cell_type": "markdown",
      "source": [
        "##**ATTN: In order to run the program, press the play button on the top-left of each code cell.**\n",
        "\n",
        "**Do this in consecutive order (top to bottom)...the last code cell shows the resulting output.**"
      ],
      "metadata": {
        "id": "FTxkADfrBw5t"
      }
    },
    {
      "cell_type": "code",
      "source": [
        "import time\n",
        "from cryptography.fernet import Fernet\n",
        "\n",
        "packet = [\"\", \"\", \"\", \"\", \"\", 0] #ethernet header, ip header, ospf packet header, ospf packet type\n",
        "key = Fernet.generate_key()"
      ],
      "metadata": {
        "id": "4bq-ldT_rk0v"
      },
      "execution_count": null,
      "outputs": []
    },
    {
      "cell_type": "code",
      "source": [
        "class router:\n",
        "\n",
        "  key = \"\"\n",
        "  routerID = \"\"\n",
        "  routerNumber = 0\n",
        "  routerMac = \"\"\n",
        "  IP_address = \"\"\n",
        "  neighbor_table = [\"UNKNOWN\", \"UNKNOWN\"]\n",
        "  incoming_comms = [\"\", \"\", \"\", \"\", \"\", 0]\n",
        "\n",
        "  def __init__(self, routerID = \"\"):\n",
        "    self.routerID = \"\"\n",
        "    self.incoming_comms = [\"\", \"\", \"\", \"\", \"\", 0]\n",
        "\n",
        "  def set_key(self, x):\n",
        "    self.key = x\n",
        "\n",
        "  def set_routerNumber(self, x):\n",
        "    self.routerNumber = x\n",
        "\n",
        "  def get_routerNumber(self):\n",
        "    return self.routerNumber\n",
        "\n",
        "  def set_routerMac(self, x):\n",
        "    self.routerMac = x\n",
        "\n",
        "  def get_routerMac(self):\n",
        "    return self.routerMac\n",
        "\n",
        "  def set_ID(self, x):\n",
        "    self.routerID = x\n",
        "\n",
        "  def get_ID(self):\n",
        "    return self.routerID\n",
        "\n",
        "  def set_IP(self, x):\n",
        "    self.IP_address = x\n",
        "\n",
        "  def get_IP(self):\n",
        "    return self.IP_address\n",
        "\n",
        "  def read_incoming_comms(self, x):\n",
        "    self.incoming_comms = x\n",
        "    if self.incoming_comms[5] == 1:\n",
        "      print(\"{}: incoming packet {}\".format(self.routerID, x))\n",
        "      print(\"{}: Hello recieved.\".format(self.routerID))\n",
        "      self.neighbor_table[0] = x[0]\n",
        "      self.neighbor_table[1] = x[2]\n",
        "    elif self.incoming_comms[5] == 2:\n",
        "      print(\"{}: incoming packet {}\".format(self.routerID, x))\n",
        "      print(\"{}: Encrypted message recieved.\".format(self.routerID))\n",
        "      self.neighbor_table[0] = x[0]\n",
        "      self.neighbor_table[1] = x[2]\n",
        "      print(self.decrypt_message(self.incoming_comms[4], key))\n",
        "    elif self.incoming_comms[5] == 0:\n",
        "      print(\"{}: No incoming packet.\".format(self.routerID))\n",
        "\n",
        "  def send_hello(self):\n",
        "    self.incoming_comms = [\"\", \"\", \"\", \"\", \"\", 0] #clears incomming coms\n",
        "    print(\"{}: Hello sent.\".format(self.routerID))\n",
        "    return [\"{}\".format(self.routerMac), \"{}\".format(self.neighbor_table[0]), \"{}\".format(self.IP_address), \"{}\".format(self.neighbor_table[1]), \"\", 1]\n",
        "\n",
        "\n",
        "  def send_encrypted_message(self, x, key):\n",
        "    fernet = Fernet(key)\n",
        "    encMessage = fernet.encrypt(x.encode())\n",
        "    print(\"{}: original string: {}\".format(self.routerID, x))\n",
        "    print(\"{}: encrypted string: {}\".format(self.routerID, encMessage))\n",
        "    print(\"{}: Encrypted message sent.\".format(self.routerID))\n",
        "    return [\"{}\".format(self.routerMac), \"{}\".format(self.neighbor_table[0]), \"{}\".format(self.IP_address), \"{}\".format(self.neighbor_table[1]), encMessage, 2]\n",
        "\n",
        "  def decrypt_message(self, xx, key):\n",
        "    fernet = Fernet(key)\n",
        "    decMessage = fernet.decrypt(xx).decode()\n",
        "    return \"{}: decrypted string: {}\".format(self.routerID, decMessage)"
      ],
      "metadata": {
        "id": "N47pS1nQajEY"
      },
      "execution_count": null,
      "outputs": []
    },
    {
      "cell_type": "code",
      "source": [
        "R1 = router()\n",
        "R1.set_routerMac(\"AAAA\")\n",
        "R1.set_routerNumber(1)\n",
        "R1.set_ID(\"1.1.1.1\")\n",
        "R1.set_IP(\"10.10.1.1\")\n",
        "R1.set_key(key)\n",
        "R2 = router()\n",
        "R2.set_routerMac(\"BBBB\")\n",
        "R2.set_routerNumber(2)\n",
        "R2.set_ID(\"2.2.2.2\")\n",
        "R2.set_IP(\"10.10.2.1\")\n",
        "R2.set_key(key)"
      ],
      "metadata": {
        "id": "vElzSt_iXc6E"
      },
      "execution_count": null,
      "outputs": []
    },
    {
      "cell_type": "code",
      "source": [
        "packet = [\"\", \"\", \"\", \"\", \"\", 0]\n",
        "\n",
        "R1.read_incoming_comms(packet)\n",
        "packet = R1.send_hello()\n",
        "time.sleep(2)\n",
        "print(\"---\")\n",
        "\n",
        "R2.read_incoming_comms(packet)\n",
        "packet = R2.send_hello()\n",
        "\n",
        "time.sleep(2)\n",
        "print(\"---\")\n",
        "\n",
        "R1.read_incoming_comms(packet)\n",
        "packet = R1.send_hello()\n",
        "\n",
        "time.sleep(2)\n",
        "print(\"---\")\n",
        "\n",
        "R2.read_incoming_comms(packet)\n",
        "packet = R2.send_encrypted_message(\"This is a secret message!\", key)\n",
        "\n",
        "time.sleep(2)\n",
        "print(\"---\")\n",
        "\n",
        "R1.read_incoming_comms(packet)"
      ],
      "metadata": {
        "colab": {
          "base_uri": "https://localhost:8080/"
        },
        "id": "8ggnsJ2-lkZm",
        "outputId": "4655df4d-d4b9-41f5-a93e-df14b4920280"
      },
      "execution_count": null,
      "outputs": [
        {
          "output_type": "stream",
          "name": "stdout",
          "text": [
            "1.1.1.1: No incoming packet.\n",
            "1.1.1.1: Hello sent.\n",
            "---\n",
            "2.2.2.2: incoming packet ['AAAA', 'UNKNOWN', '10.10.1.1', 'UNKNOWN', '', 1]\n",
            "2.2.2.2: Hello recieved.\n",
            "2.2.2.2: Hello sent.\n",
            "---\n",
            "1.1.1.1: incoming packet ['BBBB', 'AAAA', '10.10.2.1', '10.10.1.1', '', 1]\n",
            "1.1.1.1: Hello recieved.\n",
            "1.1.1.1: Hello sent.\n",
            "---\n",
            "2.2.2.2: incoming packet ['AAAA', 'BBBB', '10.10.1.1', '10.10.2.1', '', 1]\n",
            "2.2.2.2: Hello recieved.\n",
            "2.2.2.2: original string: This is a secret message!\n",
            "2.2.2.2: encrypted string: b'gAAAAABkh00CxRVgEyz3JlxRDYcrevYJKZkgM3AbPt2YI-s5Xg2kKN8WVcSoOTHXjFpjiGnXX8A7JENHExG-xRsSzEUTwYQzBvZOz0pj3bwEttf9uGltRcg='\n",
            "2.2.2.2: Encrypted message sent.\n",
            "---\n",
            "1.1.1.1: incoming packet ['BBBB', 'AAAA', '10.10.2.1', '10.10.1.1', b'gAAAAABkh00CxRVgEyz3JlxRDYcrevYJKZkgM3AbPt2YI-s5Xg2kKN8WVcSoOTHXjFpjiGnXX8A7JENHExG-xRsSzEUTwYQzBvZOz0pj3bwEttf9uGltRcg=', 2]\n",
            "1.1.1.1: Encrypted message recieved.\n",
            "1.1.1.1: decrypted string: This is a secret message!\n"
          ]
        }
      ]
    },
    {
      "cell_type": "code",
      "source": [],
      "metadata": {
        "id": "hN_IS8bi3ag0"
      },
      "execution_count": null,
      "outputs": []
    }
  ]
}